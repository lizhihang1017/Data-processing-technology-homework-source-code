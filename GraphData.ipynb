{
  "cells": [
    {
      "cell_type": "markdown",
      "metadata": {
        "id": "view-in-github",
        "colab_type": "text"
      },
      "source": [
        "<a href=\"https://colab.research.google.com/github/lizhihang1017/SourceCode/blob/main/GraphData.ipynb\" target=\"_parent\"><img src=\"https://colab.research.google.com/assets/colab-badge.svg\" alt=\"Open In Colab\"/></a>"
      ]
    },
    {
      "cell_type": "markdown",
      "source": [
        "# 1. 数据预处理"
      ],
      "metadata": {
        "id": "z1YavQqB0Z1r"
      }
    },
    {
      "cell_type": "code",
      "execution_count": 1,
      "metadata": {
        "colab": {
          "base_uri": "https://localhost:8080/"
        },
        "id": "zHmtpBN6tLoN",
        "outputId": "eabb896e-47f7-4a34-8e48-a3faa9a951c6"
      },
      "outputs": [
        {
          "output_type": "stream",
          "name": "stdout",
          "text": [
            "   node1  node2 relation\n",
            "0  40609  40611        m\n",
            "1  44818  44819        m\n",
            "2  46346  46349        m\n",
            "3  15220  15222        m\n",
            "4  25624  25626        m\n"
          ]
        }
      ],
      "source": [
        "import pandas as pd\n",
        "\n",
        "# 读取数据\n",
        "data = pd.read_csv('testdata.txt', sep=' ', header=None, usecols=[0, 1, 6], names=['node1', 'node2', 'relation'])\n",
        "\n",
        "print(data.head())"
      ]
    },
    {
      "cell_type": "markdown",
      "source": [
        "## 1.1 缺失值、重复值处理"
      ],
      "metadata": {
        "id": "RPWMvUDM00Z8"
      }
    },
    {
      "cell_type": "code",
      "execution_count": 2,
      "metadata": {
        "colab": {
          "base_uri": "https://localhost:8080/"
        },
        "id": "dnwd3NLEttZF",
        "outputId": "839b13be-f3dc-48af-d36c-81a23370cdc1"
      },
      "outputs": [
        {
          "output_type": "stream",
          "name": "stdout",
          "text": [
            "node1       0\n",
            "node2       0\n",
            "relation    0\n",
            "dtype: int64\n"
          ]
        }
      ],
      "source": [
        "# 检查缺失值\n",
        "print(data.isnull().sum())\n",
        "\n",
        "# 去除包含缺失值的行\n",
        "data = data.dropna()"
      ]
    },
    {
      "cell_type": "code",
      "execution_count": 3,
      "metadata": {
        "colab": {
          "base_uri": "https://localhost:8080/"
        },
        "id": "QjtQIgUrtxld",
        "outputId": "71599897-5bba-47d7-eb69-982520c8f596"
      },
      "outputs": [
        {
          "output_type": "stream",
          "name": "stdout",
          "text": [
            "去重之前的数据量：76505\n",
            "去重之后的数据量：76505\n"
          ]
        }
      ],
      "source": [
        "# prompt: data 的数量\n",
        "\n",
        "print(\"去重之前的数据量：%d\" % len(data))\n",
        "data = data.drop_duplicates() # 去重\n",
        "print(\"去重之后的数据量：%d\" % len(data))"
      ]
    },
    {
      "cell_type": "markdown",
      "source": [
        "##1.2 配偶关系异常处理"
      ],
      "metadata": {
        "id": "wSFda9MW157q"
      }
    },
    {
      "cell_type": "code",
      "source": [
        "# 构建家庭树\n",
        "def build_family_tree(relationships):\n",
        "    family_tree = defaultdict(lambda: {'children': set(), 'spouse': None})\n",
        "\n",
        "    for person1, person2, relation in relationships:\n",
        "        if relation in ['f', 'm']:\n",
        "            family_tree[person1]['children'].add(person2)\n",
        "        elif relation == 's':\n",
        "            family_tree[person1]['spouse'] = person2\n",
        "            family_tree[person2]['spouse'] = person1\n",
        "\n",
        "    return family_tree"
      ],
      "metadata": {
        "id": "PHU3ZgHg2kTV"
      },
      "execution_count": 4,
      "outputs": []
    },
    {
      "cell_type": "code",
      "source": [
        "# 验证关系的合理性\n",
        "def validate_relationships(family_tree):\n",
        "    invalid_entries = []\n",
        "\n",
        "    for person, relations in family_tree.items():\n",
        "        children = relations['children']\n",
        "        spouse = relations['spouse']\n",
        "\n",
        "        # 检查配偶不应是子女\n",
        "        if spouse is not None:\n",
        "            for child in children:\n",
        "                if child == spouse:\n",
        "                    invalid_entries.append((person, child, '配偶是子女'))\n",
        "\n",
        "            # 检查子女不应是配偶\n",
        "            if spouse in children:\n",
        "                invalid_entries.append((person, spouse, '子女是配偶'))\n",
        "\n",
        "            # 检查配偶不应是父母、孙子、孙女\n",
        "            for child in children:\n",
        "                if child in family_tree:\n",
        "                    grandchildren = family_tree[child]['children']\n",
        "                    if spouse in grandchildren:\n",
        "                        invalid_entries.append((person, spouse, '配偶是孙子孙女'))\n",
        "\n",
        "    return invalid_entries"
      ],
      "metadata": {
        "id": "tfY8Z_-x2s21"
      },
      "execution_count": 5,
      "outputs": []
    },
    {
      "cell_type": "code",
      "source": [
        "# 保存无效关系到文件\n",
        "def save_invalid_relationships(invalid_entries, output_file):\n",
        "    with open(output_file, 'w') as file:\n",
        "        for entry in invalid_entries:\n",
        "            file.write(f\"无效关系: {entry[0]} 和 {entry[1]} 的关系是无效的，因为{entry[2]}。\\n\")"
      ],
      "metadata": {
        "id": "Rqv4jvLH22do"
      },
      "execution_count": 6,
      "outputs": []
    },
    {
      "cell_type": "code",
      "source": [
        "# 读取数据\n",
        "def load_data(file_path):\n",
        "    relationships = []\n",
        "    with open(file_path, 'r') as file:\n",
        "        for line in file:\n",
        "            parts = line.strip().split()\n",
        "            if len(parts) == 5:\n",
        "                person1 = parts[0]\n",
        "                person2 = parts[1]\n",
        "                relation = parts[-1]\n",
        "                relationships.append((person1, person2, relation))\n",
        "    return relationships"
      ],
      "metadata": {
        "id": "0XXl6DXu3WX-"
      },
      "execution_count": 8,
      "outputs": []
    },
    {
      "cell_type": "code",
      "source": [
        "from collections import defaultdict\n",
        "\n",
        "# 主程序\n",
        "input_file = 'testdata.txt'\n",
        "output_file = 'invalid_relationships.txt'\n",
        "relationships = load_data(input_file)\n",
        "\n",
        "family_tree = build_family_tree(relationships)\n",
        "invalid_relationships = validate_relationships(family_tree)\n",
        "\n",
        "# 输出无效关系并保存到文件\n",
        "if invalid_relationships:\n",
        "    # for entry in invalid_relationships:\n",
        "    #     print(f\"无效关系: {entry[0]} 和 {entry[1]} 的关系是无效的，因为{entry[2]}。\")\n",
        "\n",
        "    save_invalid_relationships(invalid_relationships, output_file)\n",
        "    print(f\"无效关系已保存到 {output_file}。\")\n",
        "else:\n",
        "    print(\"没有发现不合理的家庭关系。\")\n"
      ],
      "metadata": {
        "colab": {
          "base_uri": "https://localhost:8080/"
        },
        "id": "-3PL8vjS1wIU",
        "outputId": "183f3206-13ea-43cc-ab7d-f9cca6f8ef58"
      },
      "execution_count": 9,
      "outputs": [
        {
          "output_type": "stream",
          "name": "stdout",
          "text": [
            "无效关系已保存到 invalid_relationships.txt。\n"
          ]
        }
      ]
    },
    {
      "cell_type": "code",
      "source": [
        "from collections import defaultdict\n",
        "\n",
        "'''\n",
        "过滤掉无效信息\n",
        "'''\n",
        "\n",
        "# 读取无效关系数据\n",
        "def load_invalid_relationships(file_path):\n",
        "    invalid_pairs = set()\n",
        "    with open(file_path, 'r') as file:\n",
        "        for line in file:\n",
        "            parts = line.strip().split()\n",
        "            if len(parts) >= 4:\n",
        "                person1 = parts[1]\n",
        "                person2 = parts[3]\n",
        "                invalid_pairs.add((person1, person2))\n",
        "                invalid_pairs.add((person2, person1))  # 考虑配偶关系是双向的\n",
        "    return invalid_pairs\n",
        "\n",
        "# 读取有效数据\n",
        "def load_data(file_path):\n",
        "    relationships = []\n",
        "    with open(file_path, 'r') as file:\n",
        "        for line in file:\n",
        "            parts = line.strip().split()\n",
        "            if len(parts) == 5:\n",
        "                person1 = parts[0]\n",
        "                person2 = parts[1]\n",
        "                relation = parts[-1]\n",
        "                relationships.append((person1, person2, relation))\n",
        "    return relationships\n",
        "\n",
        "# 过滤无效配偶关系\n",
        "def filter_valid_relationships(relationships, invalid_pairs):\n",
        "    valid_relationships = []\n",
        "    for person1, person2, relation in relationships:\n",
        "        if relation == 's':\n",
        "            if (person1, person2) not in invalid_pairs:\n",
        "                valid_relationships.append((person1, person2, relation))\n",
        "        else:\n",
        "            valid_relationships.append((person1, person2, relation))\n",
        "    return valid_relationships\n",
        "\n",
        "# 保存有效关系到文件\n",
        "def save_cleaned_data(valid_relationships, output_file):\n",
        "    with open(output_file, 'w') as file:\n",
        "        for person1, person2, relation in valid_relationships:\n",
        "            file.write(f\"{person1} {person2}    {relation}\\n\")\n",
        "\n",
        "# 主程序\n",
        "invalid_file = 'invalid_relationships.txt'\n",
        "input_file = 'testdata.txt'\n",
        "output_file = 'cleaned_testdata.txt'\n",
        "\n",
        "# 读取无效关系和有效数据\n",
        "invalid_relationships = load_invalid_relationships(invalid_file)\n",
        "relationships = load_data(input_file)\n",
        "\n",
        "# 过滤有效关系\n",
        "valid_relationships = filter_valid_relationships(relationships, invalid_relationships)\n",
        "\n",
        "# 保存有效关系到文件\n",
        "save_cleaned_data(valid_relationships, output_file)\n",
        "\n",
        "print(f\"清洁后的数据已保存到 {output_file}。\")"
      ],
      "metadata": {
        "colab": {
          "base_uri": "https://localhost:8080/"
        },
        "id": "NVJvVijl7IDo",
        "outputId": "22491d85-724f-4511-d0a7-5e242d55f105"
      },
      "execution_count": 13,
      "outputs": [
        {
          "output_type": "stream",
          "name": "stdout",
          "text": [
            "清洁后的数据已保存到 cleaned_testdata.txt。\n"
          ]
        }
      ]
    },
    {
      "cell_type": "markdown",
      "source": [
        "## 1.3 多角色节点处理"
      ],
      "metadata": {
        "id": "dpxU3asm9jYe"
      }
    },
    {
      "cell_type": "code",
      "source": [
        "# 构建家庭树并统计角色\n",
        "def build_family_tree(relationships):\n",
        "    family_tree = defaultdict(lambda: {'fathers': 0, 'mothers': 0, 'father_nodes': [], 'mother_nodes': []})\n",
        "\n",
        "    # 统计的是当父亲或当母亲的次数！！！！\n",
        "    for person1, person2, relation in relationships:\n",
        "        if relation == 'f':\n",
        "            family_tree[person1]['fathers'] += 1\n",
        "            family_tree[person1]['father_nodes'].append(person2)\n",
        "        elif relation == 'm':\n",
        "            family_tree[person1]['mothers'] += 1\n",
        "            family_tree[person1]['mother_nodes'].append(person2)\n",
        "\n",
        "    return family_tree"
      ],
      "metadata": {
        "id": "1sSA_QA9-B35"
      },
      "execution_count": 14,
      "outputs": []
    },
    {
      "cell_type": "code",
      "source": [
        "# 修改不一致的角色，以下\"父亲数量\"均为当前节点当父亲的次数，母亲数量 同理\n",
        "def resolve_roles(family_tree):\n",
        "    modified_relationships = []\n",
        "\n",
        "    for person, roles in family_tree.items():\n",
        "        father_count = roles['fathers']\n",
        "        mother_count = roles['mothers']\n",
        "\n",
        "        # 如果父亲数量大于母亲数量，修改母亲角色为父亲\n",
        "        if father_count > mother_count and mother_count != 0:\n",
        "            for mother in roles['mother_nodes']:\n",
        "                modified_relationships.append((person, mother, 'f'))  # 修改为父亲关系\n",
        "\n",
        "        # 如果母亲数量大于父亲数量，修改父亲角色为母亲\n",
        "        elif mother_count > father_count and father_count != 0:\n",
        "            for father in roles['father_nodes']:\n",
        "                modified_relationships.append((person, father, 'm'))  # 修改为母亲关系\n",
        "\n",
        "        # 如果父亲和母亲数量相同，依照顺序修改\n",
        "        elif father_count == mother_count and father_count > 0:\n",
        "            # 获取父亲和母亲节点的出现顺序\n",
        "            first_father = roles['father_nodes'][0] if roles['father_nodes'] else None\n",
        "            first_mother = roles['mother_nodes'][0] if roles['mother_nodes'] else None\n",
        "\n",
        "            # 根据顺序修改关系\n",
        "            if first_father:\n",
        "                # 将所有母亲关系修改为父亲关系\n",
        "                for mother in roles['mother_nodes']:\n",
        "                    modified_relationships.append((person, mother, 'f'))  # 修改为父亲关系\n",
        "            elif first_mother:\n",
        "                # 将所有父亲关系修改为母亲关系\n",
        "                for father in roles['father_nodes']:\n",
        "                    modified_relationships.append((person, father, 'm'))  # 修改为母亲关系\n",
        "\n",
        "    return modified_relationships"
      ],
      "metadata": {
        "id": "S_ETq6Wk-J2Z"
      },
      "execution_count": 15,
      "outputs": []
    },
    {
      "cell_type": "code",
      "source": [
        "# 读取数据\n",
        "def load_data(file_path):\n",
        "    relationships = []\n",
        "    with open(file_path, 'r') as file:\n",
        "        for line in file:\n",
        "            parts = line.strip().split()\n",
        "            if len(parts) == 5 or True:\n",
        "                person1 = parts[0]\n",
        "                person2 = parts[1]\n",
        "                relation = parts[-1]\n",
        "                relationships.append((person1, person2, relation))\n",
        "    return relationships\n",
        "\n",
        "\n",
        "# 保存修改的关系到文件\n",
        "def save_modifications(modified_relationships, output_file):\n",
        "    with open(output_file, 'w') as file:\n",
        "        for entry in modified_relationships:\n",
        "            file.write(f\"修改关系: {entry[0]} 和 {entry[1]} 的关系修改为 {entry[2]}\\n\")"
      ],
      "metadata": {
        "id": "TiwfQGdf-ezo"
      },
      "execution_count": 16,
      "outputs": []
    },
    {
      "cell_type": "code",
      "source": [
        "# 主程序\n",
        "input_file = 'cleaned_testdata.txt'\n",
        "output_file = 'modifications_log.txt'\n",
        "relationships = load_data(input_file)\n",
        "family_tree = build_family_tree(relationships)\n",
        "modified_relationships = resolve_roles(family_tree)\n",
        "\n",
        "# 输出并保存修改的关系\n",
        "if modified_relationships:\n",
        "    save_modifications(modified_relationships, output_file)\n",
        "    print(f\"修改的关系已保存到文件 {output_file}。\")\n",
        "else:\n",
        "    print(\"没有需要修改的关系。\")\n"
      ],
      "metadata": {
        "colab": {
          "base_uri": "https://localhost:8080/"
        },
        "id": "s6mnpeHe9b6H",
        "outputId": "2a256b71-c7e2-4e19-a039-4b62ff948991"
      },
      "execution_count": 17,
      "outputs": [
        {
          "output_type": "stream",
          "name": "stdout",
          "text": [
            "修改的关系已保存到文件 modifications_log.txt。\n"
          ]
        }
      ]
    },
    {
      "cell_type": "code",
      "source": [
        "# 读取数据集\n",
        "def load_data(file_path):\n",
        "    relationships = []\n",
        "    with open(file_path, 'r') as file:\n",
        "        for line in file:\n",
        "            parts = line.strip().split()\n",
        "            if len(parts) == 5 or True:\n",
        "                person1 = parts[0]\n",
        "                person2 = parts[1]\n",
        "                relation = parts[-1]\n",
        "                relationships.append((person1, person2, relation))\n",
        "    return relationships\n",
        "\n",
        "# 读取修改日志文件\n",
        "def load_modifications(modifications_file):\n",
        "    modifications = []\n",
        "    with open(modifications_file, 'r') as file:\n",
        "        for line in file:\n",
        "            parts = line.strip().split()\n",
        "            if len(parts) == 4 or True:  # 检查每行是否符合预期格式\n",
        "                person1 = parts[1]\n",
        "                person2 = parts[3]\n",
        "                new_relation = parts[-1].replace('关系修改为', '')  # 去掉描述性文字\n",
        "                modifications.append((person1, person2, new_relation))\n",
        "\n",
        "    return modifications\n",
        "\n",
        "# 根据修改日志更新数据集\n",
        "def apply_modifications(original_data, modifications):\n",
        "    modified_data = original_data[:]\n",
        "    for person1, person2, new_relation in modifications:\n",
        "        for i, (orig_person1, orig_person2, orig_relation) in enumerate(modified_data):\n",
        "            if orig_person1 == person1 and orig_person2 == person2:\n",
        "                modified_data[i] = (person1, person2, new_relation)  # 更新关系\n",
        "                break\n",
        "    return modified_data\n",
        "\n",
        "# 保存修改后的数据集\n",
        "def save_data(data, file_path):\n",
        "    with open(file_path, 'w') as file:\n",
        "        for person1, person2, relation in data:\n",
        "            file.write(f\"{person1} {person2} 1 l {relation}\\n\")\n",
        "\n",
        "# 主程序\n",
        "input_file = 'cleaned_testdata.txt'\n",
        "modifications_file = 'modifications_log.txt'\n",
        "output_file = 'cleaned_testdata.txt'\n",
        "\n",
        "# 加载原始数据和修改日志\n",
        "relationships = load_data(input_file)\n",
        "modifications = load_modifications(modifications_file)\n",
        "\n",
        "# 应用修改并保存清洁的数据\n",
        "cleaned_data = apply_modifications(relationships, modifications)\n",
        "save_data(cleaned_data, output_file)\n",
        "\n",
        "print(f\"数据已更新并保存到 {output_file}\")\n"
      ],
      "metadata": {
        "colab": {
          "base_uri": "https://localhost:8080/"
        },
        "id": "dlMC1TyF-qcw",
        "outputId": "dc1ae485-df1c-4e47-d766-594a78305863"
      },
      "execution_count": 18,
      "outputs": [
        {
          "output_type": "stream",
          "name": "stdout",
          "text": [
            "数据已更新并保存到 cleaned_testdata.txt\n"
          ]
        }
      ]
    },
    {
      "cell_type": "markdown",
      "source": [
        "#2. 数据分析"
      ],
      "metadata": {
        "id": "bcAHDaRIB2I2"
      }
    },
    {
      "cell_type": "markdown",
      "source": [
        "## 2.1 最长路径查询"
      ],
      "metadata": {
        "id": "xn30XAeWH9sd"
      }
    },
    {
      "cell_type": "code",
      "source": [
        "import networkx as nx\n",
        "import time\n",
        "\n",
        "'''\n",
        "通过动态规划结合拓扑排序计算有向图中的最长路径。\n",
        "首先对图进行拓扑排序，以确保节点按依赖关系顺序处理。算法将每个节点的最长路径长度初始化为0，并记录其前驱节点。\n",
        "随后，依次遍历排序后的节点，逐步更新每个后继节点的最长路径长度，确保始终保持路径最大。\n",
        "最后，通过选择路径长度最大的终点，回溯前驱节点还原出最长路径，并记录其长度。\n",
        "'''\n",
        "\n",
        "\n",
        "# 创建一个空的有向图\n",
        "G = nx.DiGraph()\n",
        "\n",
        "print(\"开始读取数据文件并构建图...\")\n",
        "# 读取数据文件\n",
        "with open('cleaned_testdata.txt', 'r') as file:\n",
        "    lines = file.readlines()\n",
        "\n",
        "# 解析每一行数据并构建图\n",
        "for line in lines:\n",
        "    parts = line.strip().split()\n",
        "    if len(parts) >= 4 or True:\n",
        "        person1_id = str(parts[0])  # 确保ID为字符串\n",
        "        person2_id = str(parts[1])  # 确保ID为字符串\n",
        "        relation_type = parts[-1]\n",
        "\n",
        "        # 添加边并设置关系类型作为边的属性\n",
        "        G.add_edge(person1_id, person2_id, type=relation_type)\n",
        "\n",
        "print(\"图构建完成！\")\n",
        "\n",
        "# 环检测\n",
        "if nx.is_directed_acyclic_graph(G):\n",
        "    print(\"图中无环，开始计算最长路径...\")\n",
        "else:\n",
        "    print(\"图中存在环，无法计算拓扑排序。请检查数据文件！\")\n",
        "    exit(1)\n",
        "\n",
        "# 定义最长路径保存文件的路径\n",
        "output_file = \"longest_path.txt\"\n",
        "\n",
        "def save_longest_path(path, length):\n",
        "    \"\"\"实时保存最长路径和长度到本地文件.\"\"\"\n",
        "    with open(output_file, \"w\") as f:\n",
        "        f.write(f\"最长路径长度: {length}\\n\")\n",
        "        f.write(\"路径: \" + str(path) + \"\\n\")\n",
        "\n",
        "def find_longest_path(graph):\n",
        "    print(\"开始计算最长路径...\")\n",
        "\n",
        "    # 拓扑排序\n",
        "    topological_order = list(nx.topological_sort(graph))\n",
        "\n",
        "    # 初始化最长路径和前驱节点字典\n",
        "    longest_path = {node: 0 for node in graph.nodes}\n",
        "    predecessor = {node: None for node in graph.nodes}\n",
        "\n",
        "    # 动态规划计算最长路径\n",
        "    for node in topological_order:\n",
        "        for predecessor_node in graph.predecessors(node):\n",
        "            if longest_path[predecessor_node] + 1 > longest_path[node]:\n",
        "                longest_path[node] = longest_path[predecessor_node] + 1\n",
        "                predecessor[node] = predecessor_node\n",
        "\n",
        "    # 找到最长路径的终点\n",
        "    end_node = max(longest_path, key=longest_path.get)\n",
        "    max_length = longest_path[end_node]\n",
        "\n",
        "    # 回溯找到最长路径\n",
        "    path = []\n",
        "    current_node = end_node\n",
        "    while current_node is not None:\n",
        "        path.append(current_node)\n",
        "        current_node = predecessor[current_node]\n",
        "\n",
        "    # 反转路径以获得正确的顺序\n",
        "    path = path[::-1]\n",
        "\n",
        "    print(f\"找到最长路径：长度为 {max_length}，路径为 {path}\")\n",
        "    save_longest_path(path, max_length)\n",
        "\n",
        "    return path, max_length\n",
        "\n",
        "# 记录程序开始时间\n",
        "start_time = time.time()\n",
        "print(\"程序开始执行...\")\n",
        "\n",
        "# 查找最长路径\n",
        "longest_path, max_length = find_longest_path(G)\n",
        "\n",
        "# 计算并显示总运行时间\n",
        "end_time = time.time()\n",
        "total_time = end_time - start_time\n",
        "print(f\"程序总运行时间: {total_time:.2f} 秒\")\n",
        "\n",
        "print(f\"最终最长路径长度为: {max_length}\")\n",
        "print(f\"路径为: {longest_path}\")\n",
        "print(\"程序执行完毕。\")"
      ],
      "metadata": {
        "colab": {
          "base_uri": "https://localhost:8080/"
        },
        "id": "vwZd0TKYIAoV",
        "outputId": "1df49666-013c-4b9f-96ee-64c91cd543e8"
      },
      "execution_count": 23,
      "outputs": [
        {
          "output_type": "stream",
          "name": "stdout",
          "text": [
            "开始读取数据文件并构建图...\n",
            "图构建完成！\n",
            "图中无环，开始计算最长路径...\n",
            "程序开始执行...\n",
            "开始计算最长路径...\n",
            "找到最长路径：长度为 14，路径为 ['9687', '9688', '9691', '10261', '15258', '15259', '15948', '23446', '23447', '23467', '23476', '23478', '23502', '23506', '23555']\n",
            "程序总运行时间: 0.35 秒\n",
            "最终最长路径长度为: 14\n",
            "路径为: ['9687', '9688', '9691', '10261', '15258', '15259', '15948', '23446', '23447', '23467', '23476', '23478', '23502', '23506', '23555']\n",
            "程序执行完毕。\n"
          ]
        }
      ]
    },
    {
      "cell_type": "markdown",
      "source": [
        "## 2.2 社区检测 最大家庭族谱"
      ],
      "metadata": {
        "id": "kekscyKcB50r"
      }
    },
    {
      "cell_type": "code",
      "source": [
        "import networkx as nx\n",
        "import community.community_louvain as community_louvain\n",
        "import pandas as pd\n",
        "import matplotlib.pyplot as plt\n",
        "\n",
        "# Step 1: 读取数据并构建有向图\n",
        "G = nx.DiGraph()\n",
        "print(\"开始读取数据文件并构建图...\")\n",
        "with open('cleaned_testdata.txt', 'r') as file:\n",
        "    lines = file.readlines()\n",
        "    for line in lines:\n",
        "        parts = line.strip().split()\n",
        "        if len(parts) >= 3 or True:\n",
        "            person1_id = str(parts[0])  # 确保ID为字符串\n",
        "            person2_id = str(parts[1])  # 确保ID为字符串\n",
        "            relation_type = parts[-1]\n",
        "\n",
        "            # 添加边并设置关系类型作为边的属性\n",
        "            G.add_edge(person1_id, person2_id, type=relation_type)\n",
        "\n",
        "print(\"图构建完成！\")\n",
        "\n",
        "# Step 2: 将有向图转换为无向图用于社区检测\n",
        "G_undirected = G.to_undirected()\n",
        "\n",
        "# Step 3: 使用 Louvain 方法进行社区检测\n",
        "print(\"开始进行社区检测...\")\n",
        "partition = community_louvain.best_partition(G_undirected)\n",
        "\n",
        "# Step 4: 找到最大社区\n",
        "# 统计每个社区的节点数量\n",
        "community_sizes = {}\n",
        "for node, community_id in partition.items():\n",
        "    if community_id not in community_sizes:\n",
        "        community_sizes[community_id] = 0\n",
        "    community_sizes[community_id] += 1\n",
        "\n",
        "# 找到最大社区的 ID\n",
        "max_community_id = max(community_sizes, key=community_sizes.get)\n",
        "print(f\"最大的社区ID是 {max_community_id}，包含 {community_sizes[max_community_id]} 个节点。\")\n",
        "\n",
        "# 获取最大社区中的节点\n",
        "max_community_nodes = [node for node, community_id in partition.items() if community_id == max_community_id]\n",
        "\n",
        "# Step 5: 提取最大社区的子图并导出\n",
        "max_community_subgraph = G.subgraph(max_community_nodes).copy()\n",
        "\n",
        "# 将最大社区的节点和边导出到 CSV 文件\n",
        "nodes_data = {'Node': list(max_community_subgraph.nodes())}\n",
        "edges_data = {\n",
        "    'Source': [edge[0] for edge in max_community_subgraph.edges()],\n",
        "    'Target': [edge[1] for edge in max_community_subgraph.edges()],\n",
        "    'Relation': [max_community_subgraph.edges[edge]['type'] for edge in max_community_subgraph.edges()]\n",
        "}\n",
        "\n",
        "nodes_df = pd.DataFrame(nodes_data)\n",
        "edges_df = pd.DataFrame(edges_data)\n",
        "\n",
        "# 导出为CSV文件\n",
        "nodes_df.to_csv(\"max_community_nodes.csv\", index=False)\n",
        "edges_df.to_csv(\"max_community_edges.csv\", index=False)\n",
        "\n",
        "print(\"最大社区的节点和边已保存到 'max_community_nodes.csv' 和 'max_community_edges.csv'\")\n"
      ],
      "metadata": {
        "colab": {
          "base_uri": "https://localhost:8080/"
        },
        "id": "WcjRxm8mF5tR",
        "outputId": "83287264-e6fc-4dc3-8dc5-68c52f07fb85"
      },
      "execution_count": 20,
      "outputs": [
        {
          "output_type": "stream",
          "name": "stdout",
          "text": [
            "开始读取数据文件并构建图...\n",
            "图构建完成！\n",
            "开始进行社区检测...\n",
            "最大的社区ID是 153，包含 342 个节点。\n",
            "最大社区的节点和边已保存到 'max_community_nodes.csv' 和 'max_community_edges.csv'\n"
          ]
        }
      ]
    },
    {
      "cell_type": "code",
      "source": [
        "import networkx as nx\n",
        "import pandas as pd\n",
        "\n",
        "# 读取最大社区的边数据\n",
        "print(\"读取最大社区边数据文件...\")\n",
        "edges_df = pd.read_csv(\"max_community_edges.csv\", header=None, names=[\"person1_id\", \"person2_id\", \"relation_type\"])\n",
        "\n",
        "# 创建有向图\n",
        "G = nx.DiGraph()\n",
        "print(\"开始构建有向图...\")\n",
        "\n",
        "# 添加边到图中\n",
        "for _, row in edges_df.iterrows():\n",
        "    G.add_edge(row[\"person1_id\"], row[\"person2_id\"], relation=row[\"relation_type\"])\n",
        "\n",
        "print(\"图构建完成！\")\n",
        "\n",
        "# 计算弱连通分量\n",
        "print(\"开始检测弱连通分量...\")\n",
        "weakly_connected_components = list(nx.weakly_connected_components(G))\n",
        "\n",
        "# 统计弱连通分量的数量和规模\n",
        "num_components = len(weakly_connected_components)\n",
        "largest_component = max(weakly_connected_components, key=len)\n",
        "\n",
        "print(f\"弱连通分量的数量: {num_components}\")\n",
        "print(f\"最大的弱连通分量节点数: {len(largest_component)}\")\n",
        "\n",
        "# 如果仅有一个分量，则整个图为最大家庭族谱\n",
        "if num_components == 1:\n",
        "    print(\"数据中只有一个弱连通分量，即为最大家庭族谱。\")\n",
        "else:\n",
        "    print(\"数据包含多个弱连通分量，每个分量代表独立的家庭或家庭群体。\")\n",
        "    print(\"最大家庭族谱的节点集合为: \")\n",
        "    print(largest_component)\n",
        "\n",
        "# 将最大的弱连通分量子图保存到新文件\n",
        "print(\"提取并保存最大家庭族谱的数据...\")\n",
        "largest_subgraph = G.subgraph(largest_component)\n",
        "\n",
        "# 将边数据导出为 CSV\n",
        "output_edges = []\n",
        "for u, v, data in largest_subgraph.edges(data=True):\n",
        "    output_edges.append([u, v, data[\"relation\"]])\n",
        "\n",
        "# 转换为 DataFrame 并保存\n",
        "largest_edges_df = pd.DataFrame(output_edges, columns=[\"person1_id\", \"person2_id\", \"relation_type\"])\n",
        "largest_edges_df.to_csv(\"largest_family_ancestry_edges.csv\", index=False)\n",
        "\n",
        "print(\"最大家庭族谱边数据已保存到 'largest_family_ancestry_edges.csv'\")"
      ],
      "metadata": {
        "colab": {
          "base_uri": "https://localhost:8080/"
        },
        "id": "HONE1zgOGnjT",
        "outputId": "df647ab4-089d-49f5-c169-f82a8eaa30d1"
      },
      "execution_count": 21,
      "outputs": [
        {
          "output_type": "stream",
          "name": "stdout",
          "text": [
            "读取最大社区边数据文件...\n",
            "开始构建有向图...\n",
            "图构建完成！\n",
            "开始检测弱连通分量...\n",
            "弱连通分量的数量: 2\n",
            "最大的弱连通分量节点数: 342\n",
            "数据包含多个弱连通分量，每个分量代表独立的家庭或家庭群体。\n",
            "最大家庭族谱的节点集合为: \n",
            "{'5572', '2196', '48462', '46116', '48660', '37076', '48308', '48371', '48297', '48806', '48692', '2180', '48436', '47207', '48564', '48790', '48380', '47554', '6181', '48609', '48472', '46154', '48435', '48403', '48607', '48049', '48437', '48549', '48369', '47830', '46380', '45684', '48656', '46406', '48608', '48698', '37100', '48810', '48471', '48575', '46078', '48512', '48685', '48452', '46111', '48651', '48507', '46407', '46079', '45682', '48513', '48451', '46156', '48646', '48330', '48340', '2179', '48171', '48805', '48567', '6137', '48306', '48461', '48803', '48649', '36960', '48684', '48402', '48674', '36796', '47573', '48638', '48761', '48370', '48309', '6162', '48782', '48606', '48493', '48486', '48488', '37099', '5633', '48494', '6203', '48543', '46461', '46384', '48374', '45777', '48327', '48539', '48570', '48762', '45683', '48307', '48635', '9', '48689', '48491', '48744', '46003', '48770', '48648', '46100', '48639', '48434', '48788', '46077', '48647', '46108', '48514', '48463', '48372', '48798', '48759', '48734', '37127', '48775', '48779', '48551', '47206', '36794', '48802', '736', '2182', '48325', '48781', '46010', '48905', '48650', '46113', '48777', '37012', '6139', '46376', '36797', '48423', '2195', '45776', '48571', '48318', '46005', '47832', '46158', '46110', '12', '48727', '48284', '46099', '48778', '48048', '48508', '48735', '46112', '48907', '46181', '37075', '46549', '48739', '48316', '48429', '5594', '48565', '48544', '47831', '48550', '48541', '48489', '6138', '48697', '48313', '47228', '46002', '37116', '932', '6164', '45993', '48783', '37107', '46505', '6202', '2181', '48430', '48405', '48574', '48661', '48424', '6180', '46377', '48724', '48373', '48378', '48321', '48320', '48460', '48342', '48525', '48652', '37117', '46098', '6163', '6205', '47553', '46180', '47552', '48343', '48404', '48317', '47226', '46504', '46157', '48521', '48358', '2244', '48745', '48326', '48169', '37078', '48760', '48736', '48653', '48475', '48691', '48287', '48740', '47229', '36795', '6204', '37011', '48329', '2242', '48807', '48725', '48655', '46531', '48359', '5570', '2199', '36959', '46379', '46529', '48474', '48673', '46382', '48743', '48368', '48675', '48360', '48453', '48433', '2243', '46383', '48908', '48789', '46000', '47551', '48315', '48780', '48542', '46114', '48690', '48490', '48636', '46109', '48379', '48341', '48741', '48706', '48328', '48511', '45994', '48509', '48793', '48637', '48545', '37098', '45992', '48742', '48573', '5571', '48568', '48540', '48654', '48906', '37077', '48569', '48311', '46378', '14', '48422', '48515', '48572', '48526', '46115', '48428', '48464', '48047', '48473', '46104', '48726', '48454', '46460', '47571', '46530', '2197', '6179', '48696', '48524', '48296', '48322', '48776', '37101', '48465', '46408', '48312', '48487', '48510', '48707', '48640', '45996', '37108', '48421', '48791', '2198', '48286', '48492', '48314', '48319', '48020', '46155', '6165', '47227', '47572', '5363', '48566', '48520', '46004', '46001', '48172', '45995', '48708'}\n",
            "提取并保存最大家庭族谱的数据...\n",
            "最大家庭族谱边数据已保存到 'largest_family_ancestry_edges.csv'\n"
          ]
        }
      ]
    },
    {
      "cell_type": "code",
      "source": [
        "import pandas as pd\n",
        "from graphviz import Digraph\n",
        "\n",
        "# 读取家庭关系数据\n",
        "family_edges = pd.read_csv('largest_family_ancestry_edges.csv')\n",
        "\n",
        "# 创建 Graphviz 有向图\n",
        "dot = Digraph(comment='Family Ancestry', format='svg')\n",
        "dot.attr(rankdir='LR')  # 设置为横向\n",
        "\n",
        "# 添加节点和边\n",
        "for _, row in family_edges.iterrows():\n",
        "    person1_id = str(row['person1_id'])\n",
        "    person2_id = str(row['person2_id'])\n",
        "    relation = row['relation_type']\n",
        "\n",
        "    # 添加节点\n",
        "    dot.node(person1_id, person1_id)\n",
        "    dot.node(person2_id, person2_id)\n",
        "\n",
        "    # 添加边\n",
        "    if relation == 'm':\n",
        "        dot.edge(person1_id, person2_id, label='mother', color='blue')\n",
        "    elif relation == 'f':\n",
        "        dot.edge(person1_id, person2_id, label='father', color='green')\n",
        "    elif relation == 's':\n",
        "        dot.edge(person1_id, person2_id, label='Spouse', color='red')\n",
        "\n",
        "# 保存为 SVG 文件\n",
        "dot.render('family_ancestry_horizontal', view=True)"
      ],
      "metadata": {
        "colab": {
          "base_uri": "https://localhost:8080/",
          "height": 35
        },
        "id": "hhqKGnxnGtyh",
        "outputId": "21380bbc-4bdd-4bf8-b01b-0f0fb11d1f99"
      },
      "execution_count": 22,
      "outputs": [
        {
          "output_type": "execute_result",
          "data": {
            "text/plain": [
              "'family_ancestry_horizontal.svg'"
            ],
            "application/vnd.google.colaboratory.intrinsic+json": {
              "type": "string"
            }
          },
          "metadata": {},
          "execution_count": 22
        }
      ]
    }
  ],
  "metadata": {
    "colab": {
      "provenance": [],
      "authorship_tag": "ABX9TyMBaLw64WXDmXWMKo4YL1I6",
      "include_colab_link": true
    },
    "kernelspec": {
      "display_name": "Python 3",
      "name": "python3"
    },
    "language_info": {
      "name": "python"
    }
  },
  "nbformat": 4,
  "nbformat_minor": 0
}